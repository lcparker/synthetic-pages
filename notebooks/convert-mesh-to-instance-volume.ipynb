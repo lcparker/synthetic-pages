{
 "cells": [
  {
   "cell_type": "markdown",
   "id": "0106c854",
   "metadata": {},
   "source": [
    "## Getting a page width heuristic for the mesh->instance volume"
   ]
  },
  {
   "cell_type": "code",
   "execution_count": 1,
   "id": "ba705eaa",
   "metadata": {},
   "outputs": [],
   "source": [
    "%load_ext autoreload\n",
    "%autoreload 2"
   ]
  },
  {
   "cell_type": "code",
   "execution_count": null,
   "id": "94de31a2",
   "metadata": {},
   "outputs": [],
   "source": [
    "from pathlib import Path\n",
    "from scripts.instance_labels_from_meshes import generate_label_volume, load_page_meshes_from_zyx_header\n",
    "from synthetic_pages.types.homogeneous_transform import HomogeneousTransform\n",
    "from synthetic_pages.types.mesh import Mesh\n",
    "from synthetic_pages.types.nrrd import Nrrd\n",
    "import numpy as np\n",
    "from synthetic_pages.utils import compute_signed_distances\n",
    "\n",
    "labels_dir = Path(\"/Volumes/lachlan-ssd/Scroll1_labelled\")\n",
    "\n",
    "position_header = \"03840_02048_02560\"\n",
    "papyrus_threshold = 25248\n",
    "page_thickness_unitless = 30\n",
    "input_volume = Nrrd.from_file(labels_dir/f'{position_header}_volume.nrrd')\n",
    "\n",
    "meshes_zyx = load_page_meshes_from_zyx_header(position_header, labels_dir)\n",
    "labels = generate_label_volume(input_volume, meshes_zyx, papyrus_threshold=papyrus_threshold, page_thickness_unitless=page_thickness_unitless)\n",
    "labels.write(labels_dir/f\"{position_header}_labels.nrrd\")\n"
   ]
  }
 ],
 "metadata": {
  "kernelspec": {
   "display_name": "synthetic-pages",
   "language": "python",
   "name": "python3"
  },
  "language_info": {
   "codemirror_mode": {
    "name": "ipython",
    "version": 3
   },
   "file_extension": ".py",
   "mimetype": "text/x-python",
   "name": "python",
   "nbconvert_exporter": "python",
   "pygments_lexer": "ipython3",
   "version": "3.11.13"
  }
 },
 "nbformat": 4,
 "nbformat_minor": 5
}

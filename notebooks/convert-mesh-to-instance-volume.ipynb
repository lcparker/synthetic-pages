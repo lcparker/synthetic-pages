{
 "cells": [
  {
   "cell_type": "markdown",
   "id": "0106c854",
   "metadata": {},
   "source": [
    "## Getting a page width heuristic for the mesh->instance volume"
   ]
  },
  {
   "cell_type": "code",
   "execution_count": 1,
   "id": "ba705eaa",
   "metadata": {},
   "outputs": [],
   "source": [
    "%load_ext autoreload\n",
    "%autoreload 2"
   ]
  },
  {
   "cell_type": "code",
   "execution_count": 13,
   "id": "94de31a2",
   "metadata": {},
   "outputs": [],
   "source": [
    "from pathlib import Path\n",
    "from synthetic_pages.types.homogeneous_transform import HomogeneousTransform\n",
    "from synthetic_pages.types.mesh import Mesh\n",
    "from synthetic_pages.types.nrrd import Nrrd\n",
    "import matplotlib.pyplot as plt\n",
    "import numpy as np\n",
    "\n",
    "labels_dir = Path(\"/Volumes/lachlan-ssd/Scroll1_labelled\")\n",
    "list(labels_dir.iterdir())\n",
    "\n",
    "position_header = \"03840_02048_02560\"\n",
    "\n",
    "vol = Nrrd.from_file(labels_dir/f'{position_header}_volume.nrrd')\n",
    "\n",
    "matrix = np.array([\n",
    "    [0, 0, 1, 0],  # X -> Z\n",
    "    [0, 1, 0, 0],  # Y -> Y \n",
    "    [1, 0, 0, 0],  # Z -> X\n",
    "    [0, 0, 0, 1]\n",
    "])\n",
    "xyz_to_zyx = HomogeneousTransform(matrix)\n",
    "meshes = [xyz_to_zyx.apply(Mesh.from_obj(labels_dir/fp)) for fp in labels_dir.glob(f'{position_header}_volume_mesh_*.obj')]"
   ]
  },
  {
   "cell_type": "code",
   "execution_count": 4,
   "id": "be9d1c76",
   "metadata": {},
   "outputs": [],
   "source": [
    "import matplotlib.pyplot as plt\n",
    "import numpy as np\n",
    "\n",
    "from synthetic_pages.utils import compute_signed_distances\n",
    "papyrus_threshold = 25248\n",
    "\n",
    "\n",
    "page_thickness = 30\n",
    "def split_mesh_into_connected(*meshes: list[Mesh]):\n",
    "    return [Mesh.from_trimesh(_m) for m in meshes for _m in m.as_trimesh(process=True).split(only_watertight=False)]\n",
    "\n",
    "page_meshes = split_mesh_into_connected(*meshes)"
   ]
  },
  {
   "cell_type": "code",
   "execution_count": 5,
   "id": "957e3c3e",
   "metadata": {},
   "outputs": [],
   "source": [
    "# Convery Nrrd to point cloud\n",
    "import numpy as np\n",
    "def mask_as_pointcloud(\n",
    "        mask, # (H, W, D)\n",
    "):\n",
    "    coordinates_zyx = np.argwhere(mask)\n",
    "    coordinates_zyx_world = coordinates_zyx[:, None, :] @ vol.metadata['space directions'] + vol.metadata['space origin']\n",
    "    return coordinates_zyx_world[:, 0, :]"
   ]
  },
  {
   "cell_type": "code",
   "execution_count": 6,
   "id": "02e44087",
   "metadata": {},
   "outputs": [],
   "source": [
    "pcl = mask_as_pointcloud(vol.volume > papyrus_threshold)"
   ]
  },
  {
   "cell_type": "code",
   "execution_count": 7,
   "id": "23136ad5",
   "metadata": {},
   "outputs": [],
   "source": [
    "sdfs = np.array(\n",
    "    [\n",
    "        compute_signed_distances(\n",
    "            pcl, \n",
    "            m, \n",
    "            distance_upper_bound = page_thickness/2) \n",
    "            for m \n",
    "            in page_meshes\n",
    "    ]\n",
    ").transpose((1,0))"
   ]
  },
  {
   "cell_type": "code",
   "execution_count": 8,
   "id": "1cda1809",
   "metadata": {},
   "outputs": [],
   "source": [
    "page_labels = np.argmin(sdfs, axis=-1) + 1 # page labels are positive indices\n",
    "page_labels[sdfs.min(axis=-1) > page_thickness / 2] = 0 # no page is the zero index"
   ]
  },
  {
   "cell_type": "code",
   "execution_count": 9,
   "id": "54184a51",
   "metadata": {},
   "outputs": [],
   "source": [
    "mask = np.zeros_like(vol.volume, dtype=np.uint8)"
   ]
  },
  {
   "cell_type": "code",
   "execution_count": 10,
   "id": "2cf80612",
   "metadata": {},
   "outputs": [],
   "source": [
    "centred = pcl - vol.metadata['space origin']\n",
    "voxel_space_coordinates = (pcl - vol.metadata['space origin'])[:, None, :] @ vol.metadata['space directions'].T\n",
    "voxel_space_coordinates = voxel_space_coordinates.astype(np.uint32)"
   ]
  },
  {
   "cell_type": "code",
   "execution_count": 11,
   "id": "4e3abd23",
   "metadata": {},
   "outputs": [],
   "source": [
    "mask[voxel_space_coordinates[:, 0, 0], voxel_space_coordinates[:, 0, 1], voxel_space_coordinates[:, 0 , 2]] = page_labels"
   ]
  },
  {
   "cell_type": "code",
   "execution_count": 12,
   "id": "03dd57a0",
   "metadata": {},
   "outputs": [],
   "source": [
    "Nrrd(mask, metadata=vol.metadata).write(labels_dir/f\"{position_header}_labels.nrrd\")"
   ]
  }
 ],
 "metadata": {
  "kernelspec": {
   "display_name": "synthetic-pages",
   "language": "python",
   "name": "python3"
  },
  "language_info": {
   "codemirror_mode": {
    "name": "ipython",
    "version": 3
   },
   "file_extension": ".py",
   "mimetype": "text/x-python",
   "name": "python",
   "nbconvert_exporter": "python",
   "pygments_lexer": "ipython3",
   "version": "3.11.13"
  }
 },
 "nbformat": 4,
 "nbformat_minor": 5
}
